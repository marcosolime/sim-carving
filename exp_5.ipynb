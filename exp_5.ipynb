{
 "cells": [
  {
   "cell_type": "code",
   "execution_count": 1,
   "id": "bb464e5e",
   "metadata": {},
   "outputs": [],
   "source": [
    "import numpy as np\n",
    "import matplotlib.pyplot as plt\n",
    "import matplotlib.patches as patches"
   ]
  },
  {
   "cell_type": "markdown",
   "id": "f4351a8b",
   "metadata": {},
   "source": [
    "2D ray-box clip (slab method)\n",
    "- given (1) a ray described by origin and direction, and (2) the bounding box of a axis-aligned square\n",
    "- returns if the line (1) hit/not hit the box, and if yes, (2) t0 and t1 parameters\n",
    "- we can find the ingress/outgress of the points using p_i = o + t_i * d"
   ]
  },
  {
   "cell_type": "code",
   "execution_count": 3,
   "id": "ad653d00",
   "metadata": {},
   "outputs": [],
   "source": [
    "def ray_box_intersect_2d(o, d, box_min, box_max):\n",
    "    \"\"\"Return (hit, t0, t1) where segment inside box is o + t d, t in [t0, t1].\"\"\"\n",
    "    t0, t1 = -np.inf, np.inf\n",
    "    for k in range(2):\n",
    "        if abs(d[k]) < 1e-12:\n",
    "            # parallel to this axis: must be within slab\n",
    "            if o[k] < box_min[k] or o[k] > box_max[k]:\n",
    "                return False, 0.0, 0.0\n",
    "        else:\n",
    "            inv = 1.0 / d[k]\n",
    "            t_near = (box_min[k] - o[k]) * inv\n",
    "            t_far  = (box_max[k] - o[k]) * inv\n",
    "            if t_near > t_far:\n",
    "                t_near, t_far = t_far, t_near\n",
    "            t0 = max(t0, t_near)\n",
    "            t1 = min(t1, t_far)\n",
    "            if t0 > t1:\n",
    "                return False, 0.0, 0.0\n",
    "    return True, t0, t1"
   ]
  },
  {
   "cell_type": "code",
   "execution_count": 45,
   "id": "e033d237",
   "metadata": {},
   "outputs": [
    {
     "name": "stdout",
     "output_type": "stream",
     "text": [
      "p0:[2. 3.], p1:[3. 4.]\n"
     ]
    }
   ],
   "source": [
    "# dummy code\n",
    "# a line intersect a box or not, and also the points of intersection\n",
    "o, d, box_min, box_max = (1,2), (1,1), (2,1), (4,4)\n",
    "hit, t0, t1 = ray_box_intersect_2d(o, d, box_min, box_max)\n",
    "p0 = o + t0*np.array(d)\n",
    "p1 = o + t1*np.array(d)\n",
    "print(f\"p0:{p0}, p1:{p1}\")"
   ]
  },
  {
   "cell_type": "markdown",
   "id": "d1aac697",
   "metadata": {},
   "source": [
    "2D DDA with per-cell segment length"
   ]
  },
  {
   "cell_type": "code",
   "execution_count": 51,
   "id": "0cf22152",
   "metadata": {},
   "outputs": [],
   "source": [
    "def dda_ray_with_lengths(origin, direction, bounds, max_steps=20_000):\n",
    "    \"\"\"\n",
    "    Amanatides & Woo DDA in 2D.\n",
    "    Returns list of (ix, iy, length) for each grid cell the ray crosses inside 'bounds'.\n",
    "\n",
    "    bounds: (xmin, xmax, ymin, ymax)  with integer cell indices.\n",
    "            Cells are [i, i+1) × [j, j+1) for i in [xmin, xmax-1], j in [ymin, ymax-1].\n",
    "    \"\"\"\n",
    "    x0, y0 = map(float, origin)\n",
    "    dx, dy = map(float, direction)\n",
    "    xmin, xmax, ymin, ymax = bounds\n",
    "\n",
    "    # normalize direction\n",
    "    n = np.hypot(dx, dy)\n",
    "    if n < 1e-12:\n",
    "        return []\n",
    "    dx /= n; dy /= n\n",
    "\n",
    "    # clip to the grid box in WORLD coords:\n",
    "    # the box spans from (xmin, ymin) to (xmax, ymax) in world/grid units\n",
    "    hit, t_enter, t_exit = ray_box_intersect_2d(\n",
    "        np.array([x0, y0]),\n",
    "        np.array([dx, dy]),\n",
    "        np.array([xmin, ymin]),\n",
    "        np.array([xmax, ymax])\n",
    "    )\n",
    "    if not hit or t_exit <= max(t_enter, 0.0):\n",
    "        return []\n",
    "\n",
    "    # start at entry point; measure all t relative to entry\n",
    "    t0 = max(t_enter, 0.0)\n",
    "    px, py = x0 + t0 * dx, y0 + t0 * dy\n",
    "\n",
    "    # initial cell (ensure boundary cases put you inside the correct cell)\n",
    "    ix = int(np.floor(px))\n",
    "    iy = int(np.floor(py))\n",
    "    # if exactly on a grid line and moving negative, move to the cell \"behind\" the line\n",
    "    eps = 1e-10\n",
    "    if abs(px - np.floor(px)) < eps and dx < 0: ix -= 1\n",
    "    if abs(py - np.floor(py)) < eps and dy < 0: iy -= 1\n",
    "\n",
    "    # step direction\n",
    "    step_x = 1 if dx > 0 else -1\n",
    "    step_y = 1 if dy > 0 else -1\n",
    "\n",
    "    # distance between x/y boundaries in t\n",
    "    tDeltaX = (1.0 / abs(dx)) if abs(dx) > 0 else np.inf\n",
    "    tDeltaY = (1.0 / abs(dy)) if abs(dy) > 0 else np.inf\n",
    "\n",
    "    # distance to the next x/y boundary from the entry point\n",
    "    if dx > 0:\n",
    "        next_x_boundary = ix + 1\n",
    "        tMaxX = (next_x_boundary - px) / dx\n",
    "    elif dx < 0:\n",
    "        next_x_boundary = ix     # left boundary of current cell\n",
    "        tMaxX = (next_x_boundary - px) / dx\n",
    "    else:\n",
    "        tMaxX = np.inf\n",
    "\n",
    "    if dy > 0:\n",
    "        next_y_boundary = iy + 1\n",
    "        tMaxY = (next_y_boundary - py) / dy\n",
    "    elif dy < 0:\n",
    "        next_y_boundary = iy\n",
    "        tMaxY = (next_y_boundary - py) / dy\n",
    "    else:\n",
    "        tMaxY = np.inf\n",
    "\n",
    "    cells = []\n",
    "    t = 0.0                     # param measured from entry\n",
    "    t_end = (t_exit - t0)       # how long we are inside the box\n",
    "\n",
    "    for _ in range(max_steps):\n",
    "        if not (xmin <= ix < xmax and ymin <= iy < ymax):\n",
    "            break\n",
    "        # next boundary we will hit (or exit)\n",
    "        tNext = min(tMaxX, tMaxY, t_end)\n",
    "        seg_len = tNext - t\n",
    "        if seg_len <= 0:\n",
    "            break\n",
    "\n",
    "        # record current cell and its segment length\n",
    "        cells.append((ix, iy, seg_len))\n",
    "        t = tNext\n",
    "        if t >= t_end - 1e-12:\n",
    "            break  # we reached the exit\n",
    "\n",
    "        # step to the neighbor cell and update the boundary time\n",
    "        if abs(tMaxX - tNext) < 1e-12 and abs(tMaxY - tNext) < 1e-12:\n",
    "            # crossing both x and y boundary (corner)\n",
    "            ix += step_x\n",
    "            iy += step_y\n",
    "            tMaxX += tDeltaX\n",
    "            tMaxY += tDeltaY\n",
    "        elif tMaxX < tMaxY:\n",
    "            ix += step_x\n",
    "            tMaxX += tDeltaX\n",
    "        else:\n",
    "            iy += step_y\n",
    "            tMaxY += tDeltaY\n",
    "\n",
    "    return cells\n"
   ]
  },
  {
   "cell_type": "code",
   "execution_count": 55,
   "id": "b1ec4f83",
   "metadata": {},
   "outputs": [
    {
     "data": {
      "text/plain": [
       "[(1, 1, 1.4142135623730951),\n",
       " (2, 2, 1.4142135623730951),\n",
       " (3, 3, 1.4142135623730954),\n",
       " (4, 4, 1.414213562373095),\n",
       " (5, 5, 1.414213562373095),\n",
       " (6, 6, 1.4142135623730958),\n",
       " (7, 7, 1.4142135623730958),\n",
       " (8, 8, 1.4142135623730958),\n",
       " (9, 9, 1.414213562373094)]"
      ]
     },
     "execution_count": 55,
     "metadata": {},
     "output_type": "execute_result"
    }
   ],
   "source": [
    "origin = (1, 1)\n",
    "direction = (1, 1)\n",
    "bounds = (0, 10, 0, 10)\n",
    "cells = dda_ray_with_lengths(origin, direction, bounds)\n",
    "cells"
   ]
  },
  {
   "cell_type": "markdown",
   "id": "a2e8865a",
   "metadata": {},
   "source": [
    "Demo"
   ]
  },
  {
   "cell_type": "code",
   "execution_count": 56,
   "id": "2264a5d4",
   "metadata": {},
   "outputs": [],
   "source": [
    "def demo_plot(origin, direction, bounds):\n",
    "    xmin, xmax, ymin, ymax = bounds\n",
    "    cells = dda_ray_with_lengths(origin, direction, bounds)\n",
    "\n",
    "    fig, ax = plt.subplots(figsize=(7,7))\n",
    "    # draw grid lines\n",
    "    for x in range(xmin, xmax+1):\n",
    "        ax.axvline(x, color='lightgray', lw=0.8, zorder=0)\n",
    "    for y in range(ymin, ymax+1):\n",
    "        ax.axhline(y, color='lightgray', lw=0.8, zorder=0)\n",
    "\n",
    "    # shade visited cells with lengths annotated\n",
    "    for (ix, iy, L) in cells:\n",
    "        rect = patches.Rectangle((ix, iy), 1, 1, facecolor='cornflowerblue', alpha=0.4, edgecolor='k')\n",
    "        ax.add_patch(rect)\n",
    "        ax.text(ix+0.5, iy+0.5, f\"{L:.2f}\", ha='center', va='center', fontsize=9)\n",
    "\n",
    "    # draw the true infinite line; show only across the box\n",
    "    # compute the clipped endpoints for nice plotting\n",
    "    o = np.array(origin, dtype=float)\n",
    "    d = np.array(direction, dtype=float)\n",
    "    d = d / (np.hypot(d[0], d[1]) + 1e-12)\n",
    "    hit, t0, t1 = ray_box_intersect_2d(o, d, np.array([xmin, ymin]), np.array([xmax, ymax]))\n",
    "    if hit:\n",
    "        p0 = o + max(t0, 0.0)*d\n",
    "        p1 = o + t1*d\n",
    "        ax.plot([p0[0], p1[0]], [p0[1], p1[1]], 'r--', lw=1.8, label='True line (clipped)')\n",
    "\n",
    "    # origin marker\n",
    "    ax.plot(origin[0], origin[1], 'go', label='Origin')\n",
    "\n",
    "    # axes / labels\n",
    "    ax.set_xlim(xmin-1, xmax+1)\n",
    "    ax.set_ylim(ymin-1, ymax+1)\n",
    "    ax.set_aspect('equal')\n",
    "    ax.set_xticks(range(xmin, xmax+1))\n",
    "    ax.set_yticks(range(ymin, ymax+1))\n",
    "    ax.set_title(\"2D DDA Ray Traversal (correct cells + segment lengths)\")\n",
    "    ax.legend()\n",
    "    plt.show()"
   ]
  },
  {
   "cell_type": "markdown",
   "id": "6fa8f2f2",
   "metadata": {},
   "source": [
    "Example"
   ]
  },
  {
   "cell_type": "code",
   "execution_count": null,
   "id": "1010581f",
   "metadata": {},
   "outputs": [
    {
     "data": {
      "image/png": "[encoded data removed]",
      "text/plain": [
       "<Figure size 700x700 with 1 Axes>"
      ]
     },
     "metadata": {},
     "output_type": "display_data"
    }
   ],
   "source": [
    "bounds = (0, 12, 0, 12)\n",
    "origin = (1., 10)\n",
    "direction = (1., -1.)\n",
    "\n",
    "demo_plot(origin, direction, bounds)"
   ]
  }
 ],
 "metadata": {
  "kernelspec": {
   "display_name": "base",
   "language": "python",
   "name": "python3"
  },
  "language_info": {
   "codemirror_mode": {
    "name": "ipython",
    "version": 3
   },
   "file_extension": ".py",
   "mimetype": "text/x-python",
   "name": "python",
   "nbconvert_exporter": "python",
   "pygments_lexer": "ipython3",
   "version": "3.11.5"
  }
 },
 "nbformat": 4,
 "nbformat_minor": 5
}
